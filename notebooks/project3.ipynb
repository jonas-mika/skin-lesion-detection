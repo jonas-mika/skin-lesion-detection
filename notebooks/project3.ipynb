{
  "cells": [
    {
      "cell_type": "markdown",
      "source": "# Project 3: Image Recognition in Medical Treatment\n## Diagnosing Skin Lesions using Machine Learning in Image Processing \n---\n\n**Group 9: Aidan Stocks, Hugo Reinicke, Nicola Clark, Jonas-Mika Senghaas**\n\nSubmission: *19.04.2021* / Last Modified: *08.04.2021*\n\n---\n\nThis notebook contains the step-by-step data science process performed on the *ISIC 2017* public test data and official training data on medical image recognition. The goal of this project was to extract and automatically analyse features from medical images of skin lesions in order to predict whether or not the person has ** using machine learning and image processing.\n\nThe initial data (containing the medical images, masked images and information on features and disease) was given for 150 medical images (equivalent to the public test data of the *ISIC 2017* challenge) by the project manager *Veronika *.\nTo develop more accurate models, we extended the initially given data by the official training data that could be obtained from the official [ISIC 2017 Website](https://challenge.isic-archive.com/data)",
      "metadata": {
        "tags": [],
        "cell_id": "00000-cb34c893-19b5-4eb7-bf5a-d02ead8d44fe",
        "deepnote_cell_type": "markdown"
      },
      "outputs": [],
      "execution_count": null
    },
    {
      "cell_type": "markdown",
      "source": "## Introduction\n---\nThe amount of medical imaging - just as data in any other field - has increased tremendously within the last decade, making it more and more difficult to manually inspect medical images for diagnosis purposes.\n\nFurthermore, people have proven to be hesitant of visiting doctors because of seemingly 'light' issues, which did not seem to be important enough to occupy a doctor's time. With skin diseases being especially effective in treatment if detected early, this is fatal. \nAn easy-to-use app that implements automated detection of skin diseases from the sofa, would address this issue - ultimately saving lives.",
      "metadata": {
        "tags": [],
        "cell_id": "00001-0c890553-5249-4dc4-b863-ecba0193daab",
        "deepnote_cell_type": "markdown"
      },
      "outputs": [],
      "execution_count": null
    },
    {
      "cell_type": "markdown",
      "source": "## Running this Notebook\n---\nThis notebook contains all code to reproduce the findings of the project as can be seen on the [GitHub](https://github.com/jonas-mika/fyp2021p03g09) page of this project. In order to read in the data correctly, the global paths configured in the section `Constants` need to be correct. The following file structure - as prepared in the `submission.zip` - was followed throughout the project and is recommended to use (alternatively the paths in the section `Constants` can be adjusted):\n\n```\n*project tree structure*\n```\n*Note that the rest of the file structure as can be seen on the [GitHub](https://github.com/jonas-mika/fyp2021p03g09) page of the project generates automatically*",
      "metadata": {
        "tags": [],
        "cell_id": "00002-9d760373-d759-41b1-9739-48d3452591b9",
        "deepnote_cell_type": "markdown"
      },
      "outputs": [],
      "execution_count": null
    },
    {
      "cell_type": "markdown",
      "source": "## Required Libraries and Further Imports\n---\nThroughout the project, we will use a range of both built-in and external Python Libraries. This notebook will only run if all libraries and modules are correctly installed on your local machines. \nTo install missing packages use `pip install <package_name>` (PIP (Python Package Index) is the central package management system, read more [here](https://pypi.org/project/pip/)). \n\nIn case you desire further information about the used packages, click the following links to find detailed documentations:\n- [Pandas](https://pandas.pydata.org/)\n- [Numpy](https://numpy.org/)\n- [Matplotlib](https://matplotlib.org/stable/index.html)\n- [PIL](https://pillow.readthedocs.io/en/stable/)\n- [SciKit Learn](https://scikit-learn.org/stable/)\n- [SciKit Image](https://scikit-image.org/)\n- [Scipy](https://www.scipy.org/)",
      "metadata": {
        "tags": [],
        "cell_id": "00003-6e74ab3c-05a2-47b0-95c8-bd85fea6fefc",
        "deepnote_cell_type": "markdown"
      },
      "outputs": [],
      "execution_count": null
    },
    {
      "cell_type": "code",
      "metadata": {
        "tags": [],
        "cell_id": "00000-ce265327-d417-47b0-850b-6a4f0ab3a9cf",
        "deepnote_cell_type": "code"
      },
      "source": "# external libraries\nimport pandas as pd                                    # provides major datastructure pd.DataFrame() to store datasets\nimport numpy as np                                     # used for numerical calculations and fast array manipulations\nimport matplotlib.pyplot as plt                        # visualisation of data\nimport sklearn                                         # machine learning in python\nimport skimage                                         # image processing in python\nimport Pillow                                          # fork from pil (python image library), deals with images in python\n\n# python standard libraries\nimport json                                            # data transfer to json format\nimport os                                              # automates saving of export files (figures, summaries, ...)\nimport random                                          # randomness in coloring of plots\nimport re                                              # used for checking dateformat in data cleaning",
      "execution_count": null,
      "outputs": []
    },
    {
      "cell_type": "markdown",
      "source": "Since this project makes heavy use of functions to achieve maximal efficiency, all functions are stored externally in the package structure `project3'. The following imports are necessary for this notebook to run properly.",
      "metadata": {
        "tags": [],
        "cell_id": "00005-b299d8cd-c193-4cb0-8fbb-48aeeae6c417",
        "deepnote_cell_type": "markdown"
      },
      "outputs": [],
      "execution_count": null
    },
    {
      "cell_type": "code",
      "source": "from project3.processing import ...\nfrom project3.saving import ...\nfrom project3.features import ...\nfrom project3.train import ...",
      "metadata": {
        "tags": [],
        "cell_id": "00006-906c3773-a166-4b1d-af19-9f85a5be12a2",
        "deepnote_cell_type": "code"
      },
      "outputs": [],
      "execution_count": null
    },
    {
      "cell_type": "markdown",
      "source": "**Remark**: All function used in this project are well documented in their *docstring*. To display the docstring and get an short summary of the function and the specifications of the input argument (including data tupe and small explanation) as well as their return value, type `?<function_name>` in Juptyer.",
      "metadata": {
        "tags": [],
        "cell_id": "00007-4a1d8fd2-0786-4f56-a42a-23b8c1412efb",
        "deepnote_cell_type": "markdown"
      },
      "outputs": [],
      "execution_count": null
    },
    {
      "cell_type": "markdown",
      "source": "## Constants\n---\nTo enhance the readibilty, as well as to decrease the maintenance effort, it is useful for bigger projects to define contants that need to be accessed globally throughout the whole notebook in advance. \nThe following cell contains all of those global constants. By convention, we write them in caps (https://www.python.org/dev/peps/pep-0008/#constants)",
      "metadata": {
        "tags": [],
        "cell_id": "00008-8d4d4766-2724-4033-8584-15fe4722f493",
        "deepnote_cell_type": "markdown"
      },
      "outputs": [],
      "execution_count": null
    },
    {
      "cell_type": "code",
      "source": "# path lookup dictionary to store the relative paths from the directory containing the jupyter notebooks to important directories in the project\nPATH = {}\n\nPATH['data'] = {}\nPATH['data']['raw'] = \"../data/raw/\"\nPATH['data']['processed'] = \"../data/processed/\"\nPATH['data']['external'] = \"../data/external/\"\n\nPATH['images'] = 'images/'\nPATH['masks'] = 'masks/'\n\nPATH['reports'] = \"../reports/\"\n\n# filename lookup dictionary storing the most relevant filenames\nFILENAME = {}\nFILENAME['diagnosis'] = 'diagnosis.csv'\nFILENAME['features'] = 'features.csv'\nFILENAME['images'] = []\nFILENAME['masks'] = []\n\n# defining three dictionaries to store data. each dictionary will reference several pandas dataframes\nDATA_RAW = {}\nDATA_EXTERNAL = {}",
      "metadata": {
        "tags": [],
        "cell_id": "00009-4e13d720-e857-4d9a-8abb-632aa8f19e3c",
        "deepnote_cell_type": "code"
      },
      "outputs": [],
      "execution_count": null
    },
    {
      "cell_type": "markdown",
      "source": "*TASK 0*\n# Data Exploration\n\n---\n",
      "metadata": {
        "tags": [],
        "cell_id": "00010-94b50f7c-6711-4349-bbfc-c11ba8d47de0",
        "deepnote_cell_type": "markdown"
      },
      "outputs": [],
      "execution_count": null
    },
    {
      "cell_type": "markdown",
      "source": "*TASK 1*\n# Extracting Features \n\n---",
      "metadata": {
        "tags": [],
        "cell_id": "00011-2f24366e-2e6e-4fb6-bd80-8420bbf40dde",
        "deepnote_cell_type": "markdown"
      },
      "outputs": [],
      "execution_count": null
    },
    {
      "cell_type": "markdown",
      "source": "*TASK 2*\n# Predict Diagnosis\n\n---",
      "metadata": {
        "tags": [],
        "cell_id": "00012-7fd9c2d5-6342-493a-af45-dc85efb4d664",
        "deepnote_cell_type": "markdown"
      },
      "outputs": [],
      "execution_count": null
    },
    {
      "cell_type": "markdown",
      "source": "*TASK 3*\n# Open Question: ...\n\n---",
      "metadata": {
        "tags": [],
        "cell_id": "00013-facea51d-4f84-4003-a25d-67505e0f0718",
        "deepnote_cell_type": "markdown"
      },
      "outputs": [],
      "execution_count": null
    },
    {
      "cell_type": "markdown",
      "source": "<a style='text-decoration:none;line-height:16px;display:flex;color:#5B5B62;padding:10px;justify-content:end;' href='https://deepnote.com?utm_source=created-in-deepnote-cell&projectId=e5a81e04-857d-4bae-844e-8fb924df483a' target=\"_blank\">\n<img alt='Created in deepnote.com' style='display:inline;max-height:16px;margin:0px;margin-right:7.5px;' src='data:image/svg+xml;base64,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' > </img>\nCreated in <span style='font-weight:600;margin-left:4px;'>Deepnote</span></a>",
      "metadata": {
        "tags": [],
        "created_in_deepnote_cell": true,
        "deepnote_cell_type": "markdown"
      }
    }
  ],
  "nbformat": 4,
  "nbformat_minor": 2,
  "metadata": {
    "orig_nbformat": 2,
    "deepnote_notebook_id": "7810e8fe-98e9-4f91-8d21-605a64b16e29",
    "deepnote": {},
    "deepnote_execution_queue": []
  }
}