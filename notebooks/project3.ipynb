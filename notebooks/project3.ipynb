{
  "cells": [
    {
      "cell_type": "markdown",
      "source": "# Project 3: Image Recognition in Medical Treatment\n## Diagnosing Skin Lesions using Machine Learning in Image Processing \n---\n\n**Group 9: Aidan Stocks, Hugo Reinicke, Nicola Clark, Jonas-Mika Senghaas**\n\nSubmission: *19.04.2021* / Last Modified: *08.04.2021*\n\n---\n\nThis notebook contains the step-by-step data science process performed on the *ISIC 2017* public test data and official training data on medical image recognition. The goal of this project was to extract and automatically analyse features from medical images of skin lesions in order to predict whether or not the person has ** using machine learning and image processing.\n\nThe initial data (containing the medical images, masked images and information on features and disease) was given for 150 medical images (equivalent to the public test data of the *ISIC 2017* challenge) by the project manager *Veronika *.\nTo develop more accurate models, we extended the initially given data by the official training data that could be obtained from the official [ISIC 2017 Website](https://challenge.isic-archive.com/data)",
      "metadata": {
        "tags": [],
        "cell_id": "00000-cb34c893-19b5-4eb7-bf5a-d02ead8d44fe",
        "deepnote_cell_type": "markdown"
      }
    },
    {
      "cell_type": "markdown",
      "source": "## Introduction\n---\nThe amount of medical imaging - just as data in any other field - has increased tremendously within the last decade, making it more and more difficult to manually inspect medical images for diagnosis purposes.\n\nFurthermore, people have proven to be hesitant of visiting doctors because of seemingly 'light' issues, which did not seem to be important enough to occupy a doctor's time. With skin diseases being especially effective in treatment if detected early, this is fatal. \nAn easy-to-use app that implements automated detection of skin diseases from the sofa, would address this issue - ultimately saving lives.",
      "metadata": {
        "tags": [],
        "cell_id": "00001-0c890553-5249-4dc4-b863-ecba0193daab",
        "deepnote_cell_type": "markdown"
      }
    },
    {
      "cell_type": "markdown",
      "source": "## Running this Notebook\n---\nThis notebook contains all code to reproduce the findings of the project as can be seen on the [GitHub](https://github.com/jonas-mika/fyp2021p03g09) page of this project. In order to read in the data correctly, the global paths configured in the section `Constants` need to be correct. The following file structure - as prepared in the `submission.zip` - was followed throughout the project and is recommended to use (alternatively the paths in the section `Constants` can be adjusted):\n\n```\n*project tree structure*\n```\n*Note that the rest of the file structure as can be seen on the [GitHub](https://github.com/jonas-mika/fyp2021p03g09) page of the project generates automatically*",
      "metadata": {
        "tags": [],
        "cell_id": "00002-9d760373-d759-41b1-9739-48d3452591b9",
        "deepnote_cell_type": "markdown"
      }
    },
    {
      "cell_type": "markdown",
      "source": "## Required Libraries and Further Imports\n---\nThroughout the project, we will use a range of both built-in and external Python Libraries. This notebook will only run if all libraries and modules are correctly installed on your local machines. \nTo install missing packages use `pip install <package_name>` (PIP (Python Package Index) is the central package management system, read more [here](https://pypi.org/project/pip/)). \n\nIn case you desire further information about the used packages, click the following links to find detailed documentations:\n- [Pandas](https://pandas.pydata.org/)\n- [Numpy](https://numpy.org/)\n- [Matplotlib](https://matplotlib.org/stable/index.html)\n- [PIL](https://pillow.readthedocs.io/en/stable/)\n- [SciKit Learn](https://scikit-learn.org/stable/)\n- [SciKit Image](https://scikit-image.org/)\n- [Scipy](https://www.scipy.org/)",
      "metadata": {
        "tags": [],
        "cell_id": "00003-6e74ab3c-05a2-47b0-95c8-bd85fea6fefc",
        "deepnote_cell_type": "markdown"
      }
    },
    {
      "cell_type": "code",
      "metadata": {
        "tags": [],
        "cell_id": "00004-54b6965a-fb79-43bd-b513-36fb8a2673bf",
        "deepnote_to_be_reexecuted": false,
        "source_hash": "8b1b9c43",
        "execution_millis": 13718,
        "output_cleared": true,
        "execution_start": 1618311739209,
        "deepnote_cell_type": "code"
      },
      "source": "%%capture\n!pip install scikit-image\n!pip install scikit-learn\n!pip install pillow",
      "execution_count": 2,
      "outputs": []
    },
    {
      "cell_type": "code",
      "metadata": {
        "tags": [],
        "cell_id": "00000-ce265327-d417-47b0-850b-6a4f0ab3a9cf",
        "deepnote_to_be_reexecuted": false,
        "source_hash": "a1192b8b",
        "execution_millis": 189,
        "output_cleared": true,
        "execution_start": 1618311754726,
        "deepnote_cell_type": "code"
      },
      "source": "# external libraries\nimport pandas as pd                                    # provides major datastructure pd.DataFrame() to store datasets\nimport numpy as np                                     # used for numerical calculations and fast array manipulations\nimport matplotlib.pyplot as plt                        # visualisation of data\nimport sklearn                                         # machine learning in python\nfrom PIL import Image                                  # fork from PIL (python image library), deals with images in python\nfrom skimage.segmentation import felzenszwalb, mark_boundaries\n\n\n# python standard libraries\nimport json                                            # data transfer to json format\nimport os                                              # automates saving of export files (figures, summaries, ...)\nimport random                                          # randomness in coloring of plots\nimport re                                              # used for checking dateformat in data cleaning\n\n\n#for functions\nimport matplotlib.cm as cm\nfrom skimage import morphology\nfrom scipy.spatial.distance import cdist\nfrom scipy.stats.stats import mode",
      "execution_count": 3,
      "outputs": []
    },
    {
      "cell_type": "markdown",
      "source": "# Functions",
      "metadata": {
        "tags": [],
        "cell_id": "00006-d132dc0e-bab5-44af-9673-6f70deaf422b",
        "deepnote_cell_type": "text-cell-h1"
      }
    },
    {
      "cell_type": "code",
      "metadata": {
        "tags": [],
        "cell_id": "00007-ddc81521-76ad-4f6d-97ca-231f353b8ea3",
        "deepnote_to_be_reexecuted": false,
        "source_hash": "bce4f8db",
        "execution_millis": 3,
        "execution_start": 1618311757204,
        "output_cleared": true,
        "deepnote_cell_type": "code"
      },
      "source": "def measure_area_perimeter(mask):\n    # Measure area: the sum of all white pixels in the mask image\n    mask = np.where(np.array(mask)==255, 1, 0)\n    \n    area = np.sum(mask)\n    # Measure perimeter: first find which pixels belong to the perimeter.\n    struct_el = morphology.disk(1)\n    mask_eroded = morphology.binary_erosion(mask, struct_el)\n    image_perimeter = mask - mask_eroded\n    #fig, ax = plt.subplots(ncols=3, figsize=(12,3))\n    #ax[0].imshow(mask, cmap='gray')\n    #ax[1].imshow(mask_eroded, cmap='gray')\n    #ax[2].imshow(image_perimeter, cmap='gray')\n\n    # Now we have the perimeter image, the sum of all white pixels in it\n    perimeter = np.sum(image_perimeter)\n\n    return area, perimeter",
      "execution_count": 4,
      "outputs": []
    },
    {
      "cell_type": "code",
      "metadata": {
        "tags": [],
        "cell_id": "00009-4917c8c9-5793-4741-b2f7-62df8fddcb9a",
        "deepnote_to_be_reexecuted": false,
        "source_hash": "b623e53d",
        "execution_millis": 3,
        "execution_start": 1617975661052,
        "output_cleared": true,
        "deepnote_cell_type": "code"
      },
      "source": "",
      "execution_count": null,
      "outputs": []
    },
    {
      "cell_type": "markdown",
      "source": "Since this project makes heavy use of functions to achieve maximal efficiency, all functions are stored externally in the package structure `project3'. The following imports are necessary for this notebook to run properly.",
      "metadata": {
        "tags": [],
        "cell_id": "00005-b299d8cd-c193-4cb0-8fbb-48aeeae6c417",
        "deepnote_cell_type": "markdown"
      }
    },
    {
      "cell_type": "code",
      "metadata": {
        "tags": [],
        "cell_id": "00006-906c3773-a166-4b1d-af19-9f85a5be12a2",
        "deepnote_to_be_reexecuted": false,
        "source_hash": "cafd84ba",
        "execution_millis": 6,
        "output_cleared": true,
        "execution_start": 1617975661055,
        "deepnote_cell_type": "code"
      },
      "source": "#from project3.processing import ...\n#from project3.save import ...\n#from project3.features import ...\n#from fyp2021p03g09_functions import *",
      "execution_count": null,
      "outputs": []
    },
    {
      "cell_type": "markdown",
      "source": "**Remark**: All function used in this project are well documented in their *docstring*. To display the docstring and get an short summary of the function and the specifications of the input argument (including data tupe and small explanation) as well as their return value, type `?<function_name>` in Juptyer.",
      "metadata": {
        "tags": [],
        "cell_id": "00007-4a1d8fd2-0786-4f56-a42a-23b8c1412efb",
        "deepnote_cell_type": "markdown"
      }
    },
    {
      "cell_type": "markdown",
      "source": "## Constants\n---\nTo enhance the readibilty, as well as to decrease the maintenance effort, it is useful for bigger projects to define contants that need to be accessed globally throughout the whole notebook in advance. \nThe following cell contains all of those global constants. By convention, we write them in caps (https://www.python.org/dev/peps/pep-0008/#constants)",
      "metadata": {
        "tags": [],
        "cell_id": "00008-8d4d4766-2724-4033-8584-15fe4722f493",
        "deepnote_cell_type": "markdown"
      }
    },
    {
      "cell_type": "code",
      "metadata": {
        "tags": [],
        "cell_id": "00009-4e13d720-e857-4d9a-8abb-632aa8f19e3c",
        "deepnote_to_be_reexecuted": false,
        "source_hash": "be2a0b6e",
        "execution_millis": 18,
        "output_cleared": true,
        "execution_start": 1618311760808,
        "deepnote_cell_type": "code"
      },
      "source": "# path lookup dictionary to store the relative paths from the directory containing the jupyter notebooks to important directories in the project\nPATH = {}\n\nPATH['data'] = {}\nPATH['data']['raw'] = \"../data/raw/\"\nPATH['data']['processed'] = \"../data/processed/\"\nPATH['data']['external'] = \"../data/external/\"\n\nPATH['images'] = 'images/'\nPATH['masks'] = 'masks/'\n\nPATH['reports'] = \"../reports/\"\n\n# filename lookup dictionary storing the most relevant filenames\nFILENAME = {}\nFILENAME['diagnosis'] = 'diagnosis.csv'\nFILENAME['features'] = 'features.csv'\n\n# there are 57 superpixel images in the images that we want to deal with separately\nFILENAME['images'] = sorted([image[:-4] for image in os.listdir(PATH['data']['raw'] + PATH['images']) if not re.match('.*super.*', image)])\nFILENAME['superpixels'] = sorted([image for image in os.listdir(PATH['data']['raw'] + PATH['images']) if re.match('.*super.*', image)])\nFILENAME['masks'] = sorted([mask[:-4] for mask in os.listdir(PATH['data']['raw'] + PATH['masks'])])\n\n# defining three dictionaries to store data. each dictionary will reference several pandas dataframes\nDATA = {}\nDATA_EXTERNAL = {}\n\nNAMES = {}\nNAMES['datasets'] = ['diagnosis', 'features']\nNAMES['images'] = ['images', 'masks']",
      "execution_count": 5,
      "outputs": []
    },
    {
      "cell_type": "markdown",
      "source": "*TASK 0*\n# Data Exploration\n\n---\n",
      "metadata": {
        "tags": [],
        "cell_id": "00010-94b50f7c-6711-4349-bbfc-c11ba8d47de0",
        "deepnote_cell_type": "markdown"
      }
    },
    {
      "cell_type": "markdown",
      "source": "### Loading in Data\n\n---\n\nThe task involves different sources of data, namely:\n\n> **Images**: 150 Medical Images of Skin Lesions\n\n> **Masks**: 150 Binary Masks corresponding to each Image that masks the region of the Skin Lesion\n\n> **Diagnosis**: Dataset storing whether or not the lesion was either *melanoma* or *seborrheic_keratosis* through binary values\n\n> **Features**: Dataset storing the area and perimeter of the skin lesion for each image\n\nWe conveniently load in the csv datasets into individual `Pandas DataFrames` using the built-in pandas method `pd.read_csv()`. We store those in our `DATA_RAW` dictionary in the corresponding keys.\n\nAll images and masks are stored as `Image` objects of the `PIL` (*Python Image Library*) for convenient handling of image processing functionality.",
      "metadata": {
        "tags": [],
        "cell_id": "00011-b337fa92-d698-471c-bc5b-f941c1aef692",
        "deepnote_to_be_reexecuted": true,
        "source_hash": "b623e53d",
        "deepnote_cell_type": "markdown"
      }
    },
    {
      "cell_type": "code",
      "metadata": {
        "tags": [],
        "cell_id": "00013-2900529b-7a4b-4fce-bc3c-11beff12d811",
        "deepnote_to_be_reexecuted": false,
        "source_hash": "1cffe15d",
        "execution_millis": 24,
        "output_cleared": true,
        "execution_start": 1618311764404,
        "deepnote_cell_type": "code"
      },
      "source": "# load in raw datasets \nDATA['diagnosis'] = pd.read_csv(PATH['data']['raw'] + FILENAME['diagnosis'])\nDATA['features'] = pd.read_csv(PATH['data']['raw'] + FILENAME['features'])\n\n# load in external datasets\n#DATA_EXTERNAL['diagnosis'] = pd.read_csv(PATH['data']['external'] + FILENAME['diagnosis'])\n#DATA_EXTERNAL['features'] = pd.read_csv(PATH['data']['external'] + FILENAME['features'])",
      "execution_count": 6,
      "outputs": []
    },
    {
      "cell_type": "code",
      "metadata": {
        "tags": [],
        "cell_id": "00014-b051376d-2529-459d-a246-d2aa138dab82",
        "deepnote_to_be_reexecuted": false,
        "source_hash": "5430345",
        "execution_millis": 1653,
        "output_cleared": true,
        "execution_start": 1618311765071,
        "deepnote_cell_type": "code"
      },
      "source": "# load in raw images and masks\nDATA['images'] = [Image.open(PATH['data']['raw'] + PATH['images'] + FILENAME['images'][i] + '.jpg') for i in range(len(FILENAME['images']))]\nDATA['masks'] = [Image.open(PATH['data']['raw'] + PATH['masks'] + FILENAME['masks'][i] + '.png') for i in range(len(FILENAME['masks']))]",
      "execution_count": 7,
      "outputs": []
    },
    {
      "cell_type": "markdown",
      "source": "### Inspection of Datasets\n\n---\n\nWe can now have a look at our two datasets to get a first impression for what kind of data we are dealing with. We start by reporting the number of records and fields/ variables in each of the datasets by using the shape property of the `pd.DataFrame`. We then continue to have an actual look into the data. Similiar to the head command in terminal, we can use the method `head()` onto our DataFrames, which outputs an inline representation of the first five data records of the dataset.",
      "metadata": {
        "tags": [],
        "cell_id": "00015-bc508507-98dd-4277-95d2-820a3765f909",
        "deepnote_cell_type": "markdown"
      }
    },
    {
      "cell_type": "markdown",
      "source": "**Shape**",
      "metadata": {
        "tags": [],
        "cell_id": "00016-d2dacc61-945c-4362-8d5d-474ff69ead14",
        "deepnote_cell_type": "markdown"
      }
    },
    {
      "cell_type": "code",
      "metadata": {
        "tags": [],
        "cell_id": "00015-061506db-72d9-42ea-8d71-96b100252925",
        "deepnote_to_be_reexecuted": false,
        "source_hash": "cf497bf3",
        "execution_millis": 14,
        "output_cleared": true,
        "execution_start": 1618311768872,
        "deepnote_cell_type": "code"
      },
      "source": "for dataset in NAMES['datasets']:\n    print(f\"{dataset.capitalize()}: {DATA[dataset].shape}\")",
      "execution_count": 8,
      "outputs": []
    },
    {
      "cell_type": "markdown",
      "source": "**Diagnosis Dataset**",
      "metadata": {
        "tags": [],
        "cell_id": "00019-32045793-8a8c-4aae-a08f-8a8d0c8482e6",
        "deepnote_cell_type": "markdown"
      }
    },
    {
      "cell_type": "code",
      "metadata": {
        "tags": [],
        "cell_id": "00020-46b4d62f-7504-43ed-9415-48567333d4fb",
        "deepnote_to_be_reexecuted": false,
        "source_hash": "8e901a74",
        "execution_millis": 106,
        "output_cleared": true,
        "execution_start": 1618311770643,
        "deepnote_cell_type": "code"
      },
      "source": "DATA['diagnosis'].head()",
      "execution_count": 9,
      "outputs": []
    },
    {
      "cell_type": "markdown",
      "source": "**Features Dataset**\n",
      "metadata": {
        "tags": [],
        "cell_id": "00020-08456b29-500b-42b4-bde5-2d0b47ec5417",
        "deepnote_cell_type": "markdown"
      }
    },
    {
      "cell_type": "code",
      "metadata": {
        "tags": [],
        "cell_id": "00021-e6c8d44e-3740-4368-8a36-7f44f7a1cae6",
        "deepnote_to_be_reexecuted": false,
        "source_hash": "f0f4252b",
        "execution_millis": 11,
        "output_cleared": true,
        "execution_start": 1618311771102,
        "deepnote_cell_type": "code"
      },
      "source": "DATA['features'].head()",
      "execution_count": 10,
      "outputs": []
    },
    {
      "cell_type": "markdown",
      "source": "### Inspection of Images\n---\nThe main part of the project is to ",
      "metadata": {
        "tags": [],
        "cell_id": "00022-74d262e9-0785-418b-a633-7e5351b05a1e",
        "deepnote_cell_type": "markdown"
      }
    },
    {
      "cell_type": "code",
      "metadata": {
        "tags": [],
        "cell_id": "00023-98a3e227-2bf8-417a-80a6-b3badc4edf43",
        "deepnote_to_be_reexecuted": false,
        "source_hash": "be932fd8",
        "execution_millis": 1626,
        "output_cleared": true,
        "execution_start": 1618311774170,
        "deepnote_cell_type": "code"
      },
      "source": "# load test image using PIL\nex_img = DATA['images'][0]\nex_img_mask= DATA['masks'][0]\n\n#size = (1000, 1000)\n#ex_img.thumbnail(size)\n#ex_img_mask.thumbnail(size)\n\nfig, ax = plt.subplots(ncols=2, figsize=(16,6))\nax[0].imshow(ex_img)\nax[1].imshow(ex_img_mask, cmap='gray')\n\nprint(ex_img.format, ex_img.size, ex_img.mode)\nprint(ex_img_mask.format, ex_img_mask.size, ex_img_mask.mode)",
      "execution_count": 11,
      "outputs": []
    },
    {
      "cell_type": "code",
      "metadata": {
        "tags": [],
        "cell_id": "00025-edcf55c2-8ead-498f-9d6c-7603b0357979",
        "deepnote_to_be_reexecuted": false,
        "source_hash": "babe4cec",
        "execution_millis": 988,
        "execution_start": 1617975662904,
        "output_cleared": true,
        "deepnote_cell_type": "code"
      },
      "source": "# superpixel algorithm using skimage library\ncropped_ex_img = ex_img.crop(ex_img_mask.getbbox())\nplt.imshow(cropped_ex_img)\nsegmentation = felzenszwalb(cropped_ex_img, scale=100)\nprint(len(np.unique(segmentation)))\nplt.imshow(mark_boundaries(cropped_ex_img, segmentation))",
      "execution_count": null,
      "outputs": []
    },
    {
      "cell_type": "code",
      "metadata": {
        "tags": [],
        "cell_id": "00018-81c220e7-0c50-413a-a8dc-553271586d46",
        "deepnote_to_be_reexecuted": false,
        "source_hash": "b44e4a73",
        "execution_millis": 116,
        "output_cleared": true,
        "execution_start": 1617975663893,
        "deepnote_cell_type": "code"
      },
      "source": "ex_img_mask.size\n#https://note.nkmk.me/en/python-pillow-composite/\n#non rgb image transforms the final image to greyscale \ntestIm = Image.composite(ex_img, ex_img_mask, ex_img_mask)\ntestIm",
      "execution_count": null,
      "outputs": []
    },
    {
      "cell_type": "code",
      "metadata": {
        "tags": [],
        "cell_id": "00028-3e3ac346-aadd-4c01-8d62-b5633441fcbb",
        "deepnote_to_be_reexecuted": false,
        "source_hash": "fa9032e3",
        "execution_millis": 381,
        "output_cleared": true,
        "execution_start": 1617975664045,
        "deepnote_cell_type": "code"
      },
      "source": "bg = Image.new(\"RGB\", ex_img.size, 0)\ntestIm = Image.composite(ex_img, bg, ex_img_mask)\ntestIm",
      "execution_count": null,
      "outputs": []
    },
    {
      "cell_type": "code",
      "metadata": {
        "tags": [],
        "cell_id": "00013-1dab0e82-2651-4fcf-b6de-834a46cfb6a9",
        "deepnote_to_be_reexecuted": false,
        "source_hash": "b9724353",
        "execution_millis": 465,
        "output_cleared": true,
        "execution_start": 1617975664381,
        "deepnote_cell_type": "code"
      },
      "source": "# crop lesion using .getbbox()\nex_img.crop(ex_img_mask.getbbox())",
      "execution_count": null,
      "outputs": []
    },
    {
      "cell_type": "code",
      "metadata": {
        "tags": [],
        "cell_id": "00028-28f8f6a5-8cb5-416e-86e3-c2df505b8433",
        "deepnote_to_be_reexecuted": false,
        "source_hash": "6dfb496e",
        "execution_millis": 2,
        "execution_start": 1617975664695,
        "output_cleared": true,
        "deepnote_cell_type": "code"
      },
      "source": "#print(np.array(ex_img.getdata()).shape)",
      "execution_count": null,
      "outputs": []
    },
    {
      "cell_type": "markdown",
      "source": "*TASK 1*\n# Extracting Features \n\n---\n\nWe need to find quantitative measures of how to best classify the skin cancer type *keratosis*.\n\nA = ",
      "metadata": {
        "tags": [],
        "cell_id": "00011-2f24366e-2e6e-4fb6-bd80-8420bbf40dde",
        "deepnote_cell_type": "markdown"
      }
    },
    {
      "cell_type": "code",
      "metadata": {
        "tags": [],
        "cell_id": "00029-d9616ba2-826f-40c2-8d07-5d8ab8fd7c5e",
        "deepnote_to_be_reexecuted": false,
        "source_hash": "c9b90e2d",
        "execution_millis": 7,
        "execution_start": 1618311783122,
        "output_cleared": true,
        "deepnote_cell_type": "code"
      },
      "source": "# compactness\ndef get_compactness(mask):\n    area, perimeter = measure_area_perimeter(mask)\n\n    return ( ( perimeter ** 2) / (4 * np.pi * area ) )",
      "execution_count": 12,
      "outputs": []
    },
    {
      "cell_type": "code",
      "metadata": {
        "tags": [],
        "cell_id": "00035-e1e047d6-3cbb-4ec9-9657-f762e98937b6",
        "deepnote_to_be_reexecuted": false,
        "source_hash": "ff55b785",
        "execution_millis": 568,
        "execution_start": 1618311841461,
        "output_cleared": true,
        "deepnote_cell_type": "code"
      },
      "source": "compactnesses=[]\nfor mask in (DATA['masks'][:5]):\n    compactnesses.append(get_compactness(mask))\nprint(compactnesses)",
      "execution_count": 14,
      "outputs": []
    },
    {
      "cell_type": "code",
      "metadata": {
        "tags": [],
        "cell_id": "00036-21ad9b5b-826f-4ee5-827b-485c05c38ae9",
        "deepnote_to_be_reexecuted": false,
        "source_hash": "2a646a9e",
        "execution_millis": 0,
        "execution_start": 1617977179499,
        "output_cleared": true,
        "deepnote_cell_type": "code"
      },
      "source": "#for mask in (DATA['masks']):\n#    DATA[['diagnosis'][mask.filename[18:-17]]\ndiag={}\n\nfor index,ident in enumerate(DATA['diagnosis'][\"image_id\"]):\n    mel=DATA['diagnosis'][\"melanoma\"][index]\n    mole=DATA['diagnosis'][\"seborrheic_keratosis\"][index]\n    diag[ident]=[int(mel),int(mole)]",
      "execution_count": null,
      "outputs": []
    },
    {
      "cell_type": "code",
      "metadata": {
        "tags": [],
        "cell_id": "00037-2c5d371c-5c1b-4552-b84a-e2e2b78c5b99",
        "deepnote_to_be_reexecuted": false,
        "source_hash": "92620b0f",
        "execution_start": 1617978950802,
        "execution_millis": 32625,
        "output_cleared": true,
        "deepnote_cell_type": "code"
      },
      "source": "areas=[]\nperimeters=[]\n#loop = 0\nfor mask in (DATA['masks']):\n    area,perimeter=measure_area_perimeter(mask)\n    areas.append(int(area))\n    perimeters.append(int(perimeter))\n",
      "execution_count": null,
      "outputs": []
    },
    {
      "cell_type": "code",
      "metadata": {
        "tags": [],
        "cell_id": "00038-a9ce9370-5b39-405b-8148-60584f9f8f34",
        "deepnote_to_be_reexecuted": false,
        "source_hash": "683214ad",
        "execution_start": 1618269458577,
        "execution_millis": 128,
        "output_cleared": true,
        "deepnote_cell_type": "code"
      },
      "source": "DATA['masks'].filename",
      "execution_count": null,
      "outputs": []
    },
    {
      "cell_type": "code",
      "metadata": {
        "tags": [],
        "cell_id": "00038-c808c92e-1ea1-423c-a85f-09913de32e33",
        "deepnote_to_be_reexecuted": false,
        "source_hash": "43ccd62e",
        "execution_millis": 34104,
        "execution_start": 1617979201772,
        "output_cleared": true,
        "deepnote_cell_type": "code"
      },
      "source": "list_of_colours=[]\n\n# for adding the points to the graph, colourised according to their diagnosis (black = nothing, red = melanoma, blue = seborrheic keratosis)\nfor mask in DATA['masks']:\n    area,perimeter=measure_area_perimeter(mask)\n    colour=\"black\"\n    name_of_file=mask.filename[18:-17]\n    # for melanoma\n    if diag[name_of_file][0] == 1:\n        colour=\"red\"\n    # for moles\n    if diag[name_of_file][1] == 1:\n        colour=\"blue\"\n    list_of_colours.append(colour)\n\n\n        ",
      "execution_count": null,
      "outputs": []
    },
    {
      "cell_type": "code",
      "metadata": {
        "tags": [],
        "cell_id": "00039-dc6df78b-cd5c-47c8-825d-ee3a512bc33e",
        "deepnote_to_be_reexecuted": false,
        "source_hash": "73d91a44",
        "execution_millis": 3030,
        "execution_start": 1617980432322,
        "output_cleared": true,
        "deepnote_cell_type": "code"
      },
      "source": "import math\nsqrts_of_areas=[math.sqrt(x)for x in areas]\nlogs_of_areas=[math.log(x)for x in areas]\nlogs_of_perimeters=[math.log(x)for x in perimeters]\nfig, ax = plt.subplots(ncols=2,nrows=2, figsize=(10,10))\nax[0,0].scatter(perimeters,areas,c=list_of_colours,s=4)\nax[0,1].scatter(perimeters,sqrts_of_areas,c=list_of_colours,s=4)\nax[1,0].scatter(perimeters,logs_of_areas,c=list_of_colours,s=4)\n\n#this one shows the 2 distinct groups best but the groups dont match the diagnoses, perhaps this is some error in methodology?\nax[1,1].scatter(logs_of_perimeters,logs_of_areas,c=list_of_colours,s=4)\n",
      "execution_count": null,
      "outputs": []
    },
    {
      "cell_type": "code",
      "metadata": {
        "tags": [],
        "cell_id": "00035-917eecaf-e66d-4fbd-9837-4a8fe288f5cf",
        "deepnote_to_be_reexecuted": false,
        "source_hash": "861aaca",
        "execution_millis": 528,
        "execution_start": 1617977487924,
        "output_cleared": true,
        "deepnote_cell_type": "code"
      },
      "source": "for i in range(5):\n    print(get_compactness(DATA['masks'][i]))",
      "execution_count": null,
      "outputs": []
    },
    {
      "cell_type": "code",
      "metadata": {
        "tags": [],
        "cell_id": "00036-89c04840-37a0-43f1-a4c1-ac88d42428fc",
        "deepnote_to_be_reexecuted": false,
        "source_hash": "dda70250",
        "execution_millis": 17,
        "execution_start": 1618314480517,
        "output_cleared": true,
        "deepnote_cell_type": "code"
      },
      "source": "circle = Image.open('../data/raw/circle.png')\ncircle = circle.convert('L')\nprint(get_compactness(circle))",
      "execution_count": 120,
      "outputs": []
    },
    {
      "cell_type": "code",
      "metadata": {
        "tags": [],
        "cell_id": "00029-dfa42ff2-ac04-438e-89f8-5b3619708b63",
        "deepnote_to_be_reexecuted": false,
        "source_hash": "88926920",
        "execution_millis": 2,
        "execution_start": 1617975703895,
        "output_cleared": true,
        "deepnote_cell_type": "code"
      },
      "source": "# color variability\ndef get_color_var(img):\n    pass\n    ",
      "execution_count": null,
      "outputs": []
    },
    {
      "cell_type": "code",
      "metadata": {
        "tags": [],
        "cell_id": "00030-9accc4a9-0712-40c7-bb4f-04ffdd8bfeab",
        "deepnote_to_be_reexecuted": false,
        "source_hash": "c3eca0fe",
        "execution_millis": 2,
        "execution_start": 1617975703900,
        "output_cleared": true,
        "deepnote_cell_type": "code"
      },
      "source": "# average luminance \ndef get_average_luminance(img):\n    pass",
      "execution_count": null,
      "outputs": []
    },
    {
      "cell_type": "code",
      "metadata": {
        "tags": [],
        "cell_id": "00031-a26258b1-3770-4ecf-8da1-99fd14919c0b",
        "deepnote_to_be_reexecuted": false,
        "source_hash": "c9709615",
        "execution_millis": 0,
        "execution_start": 1617975703946,
        "output_cleared": true,
        "deepnote_cell_type": "code"
      },
      "source": "# ",
      "execution_count": null,
      "outputs": []
    },
    {
      "cell_type": "code",
      "metadata": {
        "tags": [],
        "cell_id": "00028-ef906370-e43a-41aa-90d7-aa44d8cf16fe",
        "deepnote_to_be_reexecuted": false,
        "source_hash": "7eef3fbe",
        "execution_millis": 4,
        "output_cleared": true,
        "execution_start": 1618311888296,
        "deepnote_cell_type": "code"
      },
      "source": "# luminance score (might be a feature)\ndef get_average_luminance(img, mask): # image needs to be filteredd for lesion\n    filtered_image = Image.composite(img, Image.new(\"RGB\", img.size, 0), mask) # filering image\n    gray = np.array(filtered_image.convert('L')) # converting to gray scale \n    return round(np.mean(gray[gray > 0]))",
      "execution_count": 18,
      "outputs": []
    },
    {
      "cell_type": "code",
      "source": "# testing the function\nfor i in range(10):\n    print(f\"{i}: {get_average_luminance(DATA['images'][i], DATA['masks'][i])}\")\nplt.imshow(DATA['images'][2])",
      "metadata": {
        "tags": [],
        "cell_id": "00047-88589202-f806-4283-8e8b-85fed4467c79",
        "deepnote_to_be_reexecuted": false,
        "source_hash": "2b0a28f8",
        "execution_millis": 1327,
        "execution_start": 1618312092602,
        "output_cleared": true,
        "deepnote_cell_type": "code"
      },
      "outputs": [],
      "execution_count": 31
    },
    {
      "cell_type": "code",
      "source": "def get_luminance_deviation(img, mask):\n    filtered_image = Image.composite(img, Image.new(\"RGB\", img.size, 0), mask) # filering image\n    gray = np.array(filtered_image.convert('L')) # converting to gray scale \n    return round(np.std(gray[gray > 0]))",
      "metadata": {
        "tags": [],
        "cell_id": "00047-482574ea-da3f-4d49-9871-04b126068681",
        "deepnote_to_be_reexecuted": false,
        "source_hash": "c556870c",
        "execution_start": 1618312354155,
        "execution_millis": 4,
        "output_cleared": true,
        "deepnote_cell_type": "code"
      },
      "outputs": [],
      "execution_count": 33
    },
    {
      "cell_type": "code",
      "source": "# testing the  function\nfor i in range(10):\n    print(f\"{i}: {get_luminance_deviation(DATA['images'][i], DATA['masks'][i])}\")\nplt.imshow(DATA['images'][3])",
      "metadata": {
        "tags": [],
        "cell_id": "00048-faf9b455-abf3-4501-874b-f1be1356364b",
        "deepnote_to_be_reexecuted": false,
        "source_hash": "7bfc449c",
        "execution_millis": 1343,
        "execution_start": 1618312395140,
        "output_cleared": true,
        "deepnote_cell_type": "code"
      },
      "outputs": [],
      "execution_count": 39
    },
    {
      "cell_type": "code",
      "metadata": {
        "tags": [],
        "cell_id": "00030-7ee66c85-2792-4ad4-935f-dfc3e8257a30",
        "deepnote_to_be_reexecuted": false,
        "source_hash": "9c004e16",
        "execution_millis": 9,
        "execution_start": 1618315228345,
        "output_cleared": true,
        "deepnote_cell_type": "code"
      },
      "source": "# asymmetry\ndef get_asymmetry(_mask):\n    # crop mask to lesion\n    mask = _mask.crop(_mask.getbbox())\n\n    # calculate basic properties of image\n    width, length = mask.size\n    size = width * length\n    print(width,length)\n    #print(size)\n\n    # cut in half and fold\n    left = mask.crop((0,0,width/2, length))\n    right = mask.crop((width/2,0,width,length))\n    right = right.transpose(Image.FLIP_LEFT_RIGHT)\n    print(left.size, right.size)\n\n    # get binary array of unequal positions (the closer to 0, the better)\n    diff = np.where(np.array(left) != np.array(right), 1, 0)\n    print(diff.shape)\n\n    fig,ax = plt.subplots(ncols=3)\n    ax[0].imshow(left)\n    ax[1].imshow(right)\n    ax[2].imshow(diff)\n    plt.show()\n\n    return np.sum(diff) / size # percentage of asymmetric pixels",
      "execution_count": 176,
      "outputs": []
    },
    {
      "cell_type": "code",
      "source": "print(get_asymmetry(DATA['masks'][2]))",
      "metadata": {
        "tags": [],
        "cell_id": "00050-648874db-0e69-4302-9d0d-ee6d37a1a332",
        "deepnote_to_be_reexecuted": false,
        "source_hash": "1803a983",
        "execution_millis": 307,
        "execution_start": 1618315251759,
        "output_cleared": true,
        "deepnote_cell_type": "code"
      },
      "outputs": [],
      "execution_count": 179
    },
    {
      "cell_type": "code",
      "source": "width, length = ex_img.size\nplt.imshow(ex_img.crop((width/2,0,width,length)))",
      "metadata": {
        "tags": [],
        "cell_id": "00050-b9066494-ac07-4554-8e38-a095a48a3725",
        "deepnote_to_be_reexecuted": false,
        "source_hash": "b43bf62b",
        "execution_millis": 499,
        "execution_start": 1618313420345,
        "output_cleared": true,
        "deepnote_cell_type": "code"
      },
      "outputs": [],
      "execution_count": 53
    },
    {
      "cell_type": "code",
      "metadata": {
        "tags": [],
        "cell_id": "00031-15bfc4f2-6161-460b-ae59-c178e589bf35",
        "deepnote_to_be_reexecuted": false,
        "source_hash": "b623e53d",
        "execution_millis": 0,
        "execution_start": 1617975704836,
        "output_cleared": true,
        "deepnote_cell_type": "code"
      },
      "source": "# border continuity\ndef get_border_shape():\n    # cut the image in n parts from the midpoint of the lesion and measure the variance \n    # from drawing a straight line through thesee\n    pass",
      "execution_count": null,
      "outputs": []
    },
    {
      "cell_type": "code",
      "metadata": {
        "tags": [],
        "cell_id": "00028-e515a16f-c982-4ddc-b45b-80cb2ea4757c",
        "deepnote_to_be_reexecuted": false,
        "source_hash": "12088233",
        "execution_millis": 9,
        "output_cleared": true,
        "execution_start": 1617975704840,
        "deepnote_cell_type": "code"
      },
      "source": "# extract single color\nr,g,b = testIm.getpixel((1,1))\n\nprint(r,g,b)",
      "execution_count": null,
      "outputs": []
    },
    {
      "cell_type": "markdown",
      "source": "*TASK 2*\n# Predict Diagnosis\n\n---",
      "metadata": {
        "tags": [],
        "cell_id": "00012-7fd9c2d5-6342-493a-af45-dc85efb4d664",
        "deepnote_cell_type": "markdown"
      }
    },
    {
      "cell_type": "markdown",
      "source": "[Comparison of Classifiers on SciKit Learn](https://scikit-learn.org/stable/auto_examples/classification/plot_classifier_comparison.html)",
      "metadata": {
        "tags": [],
        "cell_id": "00051-3baacb0c-7630-4292-9b95-5f1463dbfb47",
        "deepnote_cell_type": "markdown"
      },
      "outputs": [],
      "execution_count": null
    },
    {
      "cell_type": "code",
      "source": "# importing helper functions and classifiers for predictive model\nfrom sklearn.model_selection import train_test_split # split data into train and test\nfrom sklearn.preprocessing import StandardScaler # normalise features\nfrom sklearn.neighbors import KNeighborsClassifier # k-nearest neighbour classifier\nfrom sklearn.svm import SVC # support vector machine classifier\nfrom sklearn.naive_bayes import GaussianNB # naive bayes",
      "metadata": {
        "tags": [],
        "cell_id": "00051-dbf260ae-6f0d-4918-859a-06ab8ab6006b",
        "output_cleared": true,
        "deepnote_cell_type": "code"
      },
      "outputs": [],
      "execution_count": null
    },
    {
      "cell_type": "markdown",
      "source": "*TASK 3*\n# Open Question: ...\n\n---",
      "metadata": {
        "tags": [],
        "cell_id": "00013-facea51d-4f84-4003-a25d-67505e0f0718",
        "deepnote_cell_type": "markdown"
      }
    },
    {
      "cell_type": "markdown",
      "source": "",
      "metadata": {
        "tags": [],
        "cell_id": "00025-86c4f020-f4de-43e0-88d0-d1f5b1b0874e",
        "deepnote_cell_type": "markdown"
      }
    },
    {
      "cell_type": "markdown",
      "source": "",
      "metadata": {
        "tags": [],
        "cell_id": "00026-bed7848d-d805-47f0-8bf7-523a4cb790f6",
        "deepnote_cell_type": "markdown"
      }
    },
    {
      "cell_type": "markdown",
      "source": "",
      "metadata": {
        "tags": [],
        "cell_id": "00027-65d1e65c-b9c5-4a9a-83da-9c4055f03f8c",
        "deepnote_cell_type": "markdown"
      }
    },
    {
      "cell_type": "markdown",
      "source": "",
      "metadata": {
        "tags": [],
        "cell_id": "00028-64a0d452-fc0a-40c4-a3b2-4d35e7515feb",
        "deepnote_cell_type": "markdown"
      }
    },
    {
      "cell_type": "markdown",
      "source": "",
      "metadata": {
        "tags": [],
        "cell_id": "00029-c9887334-2738-44bb-90a3-2b94c9240649",
        "deepnote_cell_type": "markdown"
      }
    },
    {
      "cell_type": "markdown",
      "source": "",
      "metadata": {
        "tags": [],
        "cell_id": "00030-3232008b-99b3-4ce6-8bb7-627d3c530a81",
        "deepnote_cell_type": "markdown"
      }
    },
    {
      "cell_type": "markdown",
      "source": "",
      "metadata": {
        "tags": [],
        "cell_id": "00031-7b2a6ffd-3d62-4996-a0b1-43c7ff7c2ae3",
        "deepnote_cell_type": "markdown"
      }
    },
    {
      "cell_type": "markdown",
      "source": "",
      "metadata": {
        "tags": [],
        "cell_id": "00032-1917b0a3-467d-4259-82c3-12a15ef58ae8",
        "deepnote_cell_type": "markdown"
      }
    },
    {
      "cell_type": "markdown",
      "source": "",
      "metadata": {
        "tags": [],
        "cell_id": "00033-31391a6a-012a-420c-bc8d-d5892f0044e7",
        "deepnote_cell_type": "markdown"
      }
    },
    {
      "cell_type": "markdown",
      "source": "",
      "metadata": {
        "tags": [],
        "cell_id": "00034-e91b070c-81b2-401d-9d9b-b166fd16647c",
        "deepnote_cell_type": "markdown"
      }
    },
    {
      "cell_type": "markdown",
      "source": "<a style='text-decoration:none;line-height:16px;display:flex;color:#5B5B62;padding:10px;justify-content:end;' href='https://deepnote.com?utm_source=created-in-deepnote-cell&projectId=e5a81e04-857d-4bae-844e-8fb924df483a' target=\"_blank\">\n<img alt='Created in deepnote.com' style='display:inline;max-height:16px;margin:0px;margin-right:7.5px;' src='data:image/svg+xml;base64,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' > </img>\nCreated in <span style='font-weight:600;margin-left:4px;'>Deepnote</span></a>",
      "metadata": {
        "tags": [],
        "created_in_deepnote_cell": true,
        "deepnote_cell_type": "markdown"
      }
    }
  ],
  "nbformat": 4,
  "nbformat_minor": 2,
  "metadata": {
    "orig_nbformat": 2,
    "deepnote_notebook_id": "7810e8fe-98e9-4f91-8d21-605a64b16e29",
    "deepnote": {},
    "deepnote_execution_queue": []
  }
}